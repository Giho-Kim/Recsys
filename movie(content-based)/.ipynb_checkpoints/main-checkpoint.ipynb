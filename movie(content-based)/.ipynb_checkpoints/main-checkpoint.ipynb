{
 "cells": [
  {
   "cell_type": "markdown",
   "metadata": {
    "id": "p83BNJDK-MrJ"
   },
   "source": []
  },
  {
   "cell_type": "code",
   "execution_count": 1,
   "metadata": {
    "id": "OP82UZtQ-aOP"
   },
   "outputs": [],
   "source": [
    "# (Optional) install and import additional libraries here (numpy, pandas, etc.)\n",
    "import numpy as np\n",
    "import pandas as pd\n",
    "from sklearn.metrics.pairwise import cosine_similarity as cs"
   ]
  },
  {
   "cell_type": "code",
   "execution_count": 2,
   "metadata": {
    "id": "wIwGu-Tx43SL"
   },
   "outputs": [],
   "source": [
    "# read input.txt \n",
    "def read_user_id():\n",
    "    with open('./input.txt', 'r') as f:\n",
    "        return [l.strip() for l in  f.readlines()]"
   ]
  },
  {
   "cell_type": "code",
   "execution_count": 3,
   "metadata": {
    "id": "Q3svlHPI60qS"
   },
   "outputs": [],
   "source": [
    "# write to output file output.txt\n",
    "def write_output(prediction):\n",
    "    prediction.to_csv('output.txt',index = False)"
   ]
  },
  {
   "cell_type": "code",
   "execution_count": 4,
   "metadata": {
    "scrolled": true
   },
   "outputs": [],
   "source": [
    "\n",
    "def genre_tfidf_func():    \n",
    "    # Preprocessing data\n",
    "    df_movies = pd.read_csv('./data/movies_w_imgurl.csv')\n",
    "    df_movies['genres'] = df_movies['genres'].str.split('|')\n",
    "    \n",
    "    # Count\n",
    "    df_exploded = df_movies.explode('genres')\n",
    "    total_count = df_movies.shape[0]\n",
    "    genre_count = df_exploded['genres'].value_counts()\n",
    "    \n",
    "    # Calculate IDF \n",
    "    idf = np.log10(total_count / genre_count)\n",
    "    \n",
    "    # Create a dataframe\n",
    "    unique_genres = genre_count.index.tolist()\n",
    "    unique_genres.sort()\n",
    "    genre_tfidf = pd.DataFrame(df_movies['movieId'])\n",
    "    \n",
    "    # Fill TF-IDF values\n",
    "    for genre in unique_genres:\n",
    "        genre_tfidf[genre] = df_movies['genres'].apply(lambda x: idf[genre] if genre in x else 0)\n",
    "    genre_tfidf.set_index('movieId', inplace=True)\n",
    "    return genre_tfidf\n",
    "\n",
    "def tag_tfidf_func():\n",
    "\n",
    "    # Read\n",
    "    tags_df = pd.read_csv('./data/tags.csv')\n",
    "    tags_df['tag'] = tags_df['tag'].str.split(',').apply(lambda x: [tag.strip() for tag in x])\n",
    "    \n",
    "    # Count\n",
    "    tags_df_exploded = tags_df.explode('tag')\n",
    "    total_count = tags_df['movieId'].nunique()\n",
    "    tag_count = tags_df_exploded['tag'].value_counts()\n",
    "    \n",
    "    #Calculate idf\n",
    "    idf = np.log10(total_count / tag_count)\n",
    "    \n",
    "    \n",
    "    # Calculate tf\n",
    "    tag_counts_pivot = tags_df_exploded.pivot_table(index='movieId', columns='tag', aggfunc='size', fill_value=0)\n",
    "    total_tags_per_movie = tag_counts_pivot.sum(axis=1)\n",
    "    tf_pivot = tag_counts_pivot.div(total_tags_per_movie, axis=0)\n",
    "    tf_tag = pd.DataFrame(tf_pivot.to_records()).set_index('movieId')\n",
    "    \n",
    "    \n",
    "    #calculatr tf\n",
    "    for tag in tf_tag.columns:\n",
    "        tf_tag[tag] *= idf[tag]\n",
    "    tag_tfidf= tf_tag \n",
    "    return tag_tfidf\n",
    "    \n",
    "def tfidf():\n",
    "    genre_tfidf = genre_tfidf_func()\n",
    "    tag_tfidf = tag_tfidf_func()\n",
    "    movies_representation_df = pd.concat([genre_tfidf, tag_tfidf], axis=1, sort=False).fillna(0)\n",
    "    # print(movies_representation_df.shape)\n",
    "    \n",
    "    \n",
    "    simmat = pd.DataFrame(cs(movies_representation_df))\n",
    "    simmat.index = movies_representation_df.index\n",
    "    simmat.columns = movies_representation_df.index\n",
    "\n",
    "    return simmat\n",
    "\n",
    "\n",
    "# 특정 사용자 (예: userId = 1)의 영화 평점 정보 추출\n",
    "def do(ids):\n",
    "    ratings_df = pd.read_csv('./data/ratings.csv')\n",
    "    simmat = tfidf()\n",
    "    total_movies = simmat.shape[0]\n",
    "    df_final = pd.DataFrame(columns = ['userId', 'movieId', 'prediction_score'] )\n",
    "    for user_id in ids:\n",
    "        user_id = int(user_id)\n",
    "        user_ratings = ratings_df[ratings_df['userId'] == user_id][['movieId', 'rating']]\n",
    "        movie_ids = user_ratings['movieId'].unique()\n",
    "        n_movies = len(movie_ids)  # 사용자가 평가한 영화의 수\n",
    "\n",
    "   \n",
    "        user_sim = np.array(simmat[movie_ids]).T\n",
    "        user_rating = user_ratings['rating'].values.reshape(-1, 1)\n",
    "        sim_sum = np.sum(user_sim, axis=0).reshape(total_movies, 1)\n",
    "\n",
    "\n",
    "        user_index = np.expand_dims(np.ones(simmat.shape[0])*user_id, -1)\n",
    "        movie_index = np.expand_dims(simmat.index, -1).astype(np.int64)\n",
    "        estimated_scores = (np.matmul(user_sim.T, user_rating) / (sim_sum + 1))\n",
    "        estimated_scores = np.round(estimated_scores, 4)\n",
    "        ls= np.hstack([user_index, movie_index ,estimated_scores])\n",
    "        df = pd.DataFrame(ls, columns = ['userId', 'movieId', 'prediction_score'])\n",
    "        df = df.sort_values(by=['prediction_score', 'movieId'], ascending=[False, True])\n",
    "        # print(df)\n",
    "        df_final = pd.concat([df_final, df[:30]])\n",
    "        # print(np.concatenate(ls, axis=1).shape)\n",
    "    df_final = df_final.reset_index(drop=True)\n",
    "    df_final = df_final.astype({'userId':'int32', 'movieId':'int32'})\n",
    "\n",
    "    return df_final\n",
    "        "
   ]
  },
  {
   "cell_type": "markdown",
   "metadata": {},
   "source": [
    "# Main"
   ]
  },
  {
   "cell_type": "code",
   "execution_count": 5,
   "metadata": {},
   "outputs": [],
   "source": [
    "user_ids = read_user_id()\n",
    "result = do(user_ids)\n",
    "write_output(result)"
   ]
  },
  {
   "cell_type": "code",
   "execution_count": null,
   "metadata": {},
   "outputs": [],
   "source": []
  },
  {
   "cell_type": "code",
   "execution_count": null,
   "metadata": {},
   "outputs": [],
   "source": []
  },
  {
   "cell_type": "code",
   "execution_count": null,
   "metadata": {},
   "outputs": [],
   "source": []
  },
  {
   "cell_type": "code",
   "execution_count": null,
   "metadata": {},
   "outputs": [],
   "source": []
  }
 ],
 "metadata": {
  "colab": {
   "provenance": []
  },
  "kernelspec": {
   "display_name": "Python 3 (ipykernel)",
   "language": "python",
   "name": "python3"
  },
  "language_info": {
   "codemirror_mode": {
    "name": "ipython",
    "version": 3
   },
   "file_extension": ".py",
   "mimetype": "text/x-python",
   "name": "python",
   "nbconvert_exporter": "python",
   "pygments_lexer": "ipython3",
   "version": "3.8.18"
  }
 },
 "nbformat": 4,
 "nbformat_minor": 4
}
